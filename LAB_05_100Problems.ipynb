{
 "cells": [
  {
   "cell_type": "markdown",
   "id": "90ae64ab",
   "metadata": {},
   "source": [
    "### 100+ Python challenging programming exercises"
   ]
  },
  {
   "cell_type": "markdown",
   "id": "6754ef0d",
   "metadata": {},
   "source": [
    "### Question 1: Write a program which will find all such numbers which are divisible by 7 but are not a multiple of 5, between 2000 and 3200 (both included). The numbers obtained should be printed in a comma-separated sequence on a single line."
   ]
  },
  {
   "cell_type": "markdown",
   "id": "7a5b4184",
   "metadata": {},
   "source": [
    "### Hints: Consider use range(#begin, #end) method"
   ]
  },
  {
   "cell_type": "code",
   "execution_count": 3,
   "id": "de17655b",
   "metadata": {},
   "outputs": [
    {
     "name": "stdout",
     "output_type": "stream",
     "text": [
      "2002,2009,2016,2023,2037,2044,2051,2058,2072,2079,2086,2093,2107,2114,2121,2128,2142,2149,2156,2163,2177,2184,2191,2198,2212,2219,2226,2233,2247,2254,2261,2268,2282,2289,2296,2303,2317,2324,2331,2338,2352,2359,2366,2373,2387,2394,2401,2408,2422,2429,2436,2443,2457,2464,2471,2478,2492,2499,2506,2513,2527,2534,2541,2548,2562,2569,2576,2583,2597,2604,2611,2618,2632,2639,2646,2653,2667,2674,2681,2688,2702,2709,2716,2723,2737,2744,2751,2758,2772,2779,2786,2793,2807,2814,2821,2828,2842,2849,2856,2863,2877,2884,2891,2898,2912,2919,2926,2933,2947,2954,2961,2968,2982,2989,2996,3003,3017,3024,3031,3038,3052,3059,3066,3073,3087,3094,3101,3108,3122,3129,3136,3143,3157,3164,3171,3178,3192,3199\n"
     ]
    }
   ],
   "source": [
    "list_num=[]\n",
    "for i in range(2000, 3201):\n",
    "    if (i%7==0) and (i%5!=0):\n",
    "        list_num.append(str(i))\n",
    "\n",
    "print (','.join(list_num))"
   ]
  },
  {
   "cell_type": "markdown",
   "id": "3de31123",
   "metadata": {},
   "source": [
    "### Question 2: Write a program which can compute the factorial of a given numbers. The results should be printed in a comma-separated sequence on a single line."
   ]
  },
  {
   "cell_type": "code",
   "execution_count": 51,
   "id": "687882f8",
   "metadata": {},
   "outputs": [
    {
     "name": "stdout",
     "output_type": "stream",
     "text": [
      "Enter a number: 7\n",
      "The factorial of 7 is 5040\n"
     ]
    }
   ],
   "source": [
    "def factorial(x):\n",
    "    if x == 0:\n",
    "        return 1\n",
    "    elif x < 0:\n",
    "        print('Factorial does not exist')\n",
    "    else: return x * fact(x - 1)\n",
    "\n",
    "x=int(input('Enter a number: '))\n",
    "print('The factorial of',x,'is',factorial(x))"
   ]
  },
  {
   "cell_type": "markdown",
   "id": "6c137dec",
   "metadata": {},
   "source": [
    "### Question 3: With a given integral number n, write a program to generate a dictionary that contains (i, i*i) such that is an integral number between 1 and n (both included). and then the program should print the dictionary.\n",
    "### Hints:In case of input data being supplied to the question, it should be assumed to be a console input. Consider use dict()"
   ]
  },
  {
   "cell_type": "code",
   "execution_count": 11,
   "id": "1780630d",
   "metadata": {},
   "outputs": [
    {
     "name": "stdout",
     "output_type": "stream",
     "text": [
      "Enter an integer: 8\n",
      "1 : 1\n",
      "2 : 4\n",
      "3 : 9\n",
      "4 : 16\n",
      "5 : 25\n",
      "6 : 36\n",
      "7 : 49\n",
      "8 : 64\n"
     ]
    }
   ],
   "source": [
    "n=int(input(\"Enter an integer: \"))\n",
    "x=dict()\n",
    "for i in range(1,n+1):\n",
    "    x[i]=str(i*i)\n",
    "    print(i,':',(x[i]))"
   ]
  },
  {
   "cell_type": "markdown",
   "id": "ec442073",
   "metadata": {},
   "source": [
    "### Question 4: Write a program which accepts a sequence of comma-separated numbers from console and generate a list and a tuple which contains every number."
   ]
  },
  {
   "cell_type": "markdown",
   "id": "ff121fec",
   "metadata": {},
   "source": [
    "### Hints: In case of input data being supplied to the question, it should be assumed to be a console input. tuple() method can convert list to tuple"
   ]
  },
  {
   "cell_type": "code",
   "execution_count": 6,
   "id": "1a225c71",
   "metadata": {},
   "outputs": [
    {
     "name": "stdout",
     "output_type": "stream",
     "text": [
      "Enter some values: 34,67,55,33,12,98\n",
      "list:  ['34', '67', '55', '33', '12', '98']\n",
      "tuples:  ('34', '67', '55', '33', '12', '98')\n"
     ]
    }
   ],
   "source": [
    "sequence=input(\"Enter some values: \")\n",
    "list_seq=sequence.split(\",\")\n",
    "tup_seq=tuple(list_seq)\n",
    "print('list: ',list_seq)\n",
    "print('tuples: ',tup_seq)"
   ]
  },
  {
   "cell_type": "markdown",
   "id": "8b7da4ca",
   "metadata": {},
   "source": [
    "### Question 5: Define a class which has at least two methods: getString: to get a string from console input, printString: to print the string in upper case. Also please include simple test function to test the class methods. Hints: Use __init__ method to construct some parameters"
   ]
  },
  {
   "cell_type": "code",
   "execution_count": 13,
   "id": "2c07fd2a",
   "metadata": {},
   "outputs": [
    {
     "name": "stdout",
     "output_type": "stream",
     "text": [
      "this is adri from cse366 course\n",
      "THIS IS ADRI FROM CSE366 COURSE\n"
     ]
    }
   ],
   "source": [
    "class getprint(object):\n",
    "    def __init__(self):\n",
    "        self.s = \"\"\n",
    "\n",
    "    def get_String(self):\n",
    "        self.s = input()\n",
    "\n",
    "    def print_upper(self):\n",
    "        print(self.s.upper())\n",
    "\n",
    "sting_class = getprint()\n",
    "sting_class.get_String()\n",
    "sting_class.print_upper()"
   ]
  },
  {
   "cell_type": "markdown",
   "id": "1358730c",
   "metadata": {},
   "source": [
    "### Question 6: Write a program that calculates and prints the value according to the given formula:Q = Square root of [(2 * C * D)/H] Following are the fixed values of C and H: C is 50. H is 30.D is the variable whose values should be input to your program in a comma-separated sequence."
   ]
  },
  {
   "cell_type": "code",
   "execution_count": 24,
   "id": "082c4350",
   "metadata": {},
   "outputs": [
    {
     "name": "stdout",
     "output_type": "stream",
     "text": [
      "Enter value or values: 100,150,180\n",
      "18,22,24\n"
     ]
    }
   ],
   "source": [
    "import math\n",
    "C=50\n",
    "H=30\n",
    "list_seq = []\n",
    "items=[x for x in input(\"Enter value or values: \").split(',')]\n",
    "for D in items:\n",
    "    list_seq.append(str(int(round(math.sqrt(2*C*float(D)/H)))))\n",
    "print (','.join(list_seq))\n",
    "    "
   ]
  },
  {
   "cell_type": "markdown",
   "id": "68ca368e",
   "metadata": {},
   "source": [
    "### Question 7: Write a program which takes 2 digits, X,Y as input and generates a 2-dimensional array. The element value in the i-th row and j-th column of the array should be i*j. Note: i=0,1.., X-1; j=0,1,¡­Y-1. Hints: Note: In case of input data being supplied to the question, it should be assumed to be a console input in a comma-separated form."
   ]
  },
  {
   "cell_type": "code",
   "execution_count": 32,
   "id": "966454f3",
   "metadata": {},
   "outputs": [
    {
     "name": "stdout",
     "output_type": "stream",
     "text": [
      "3,5\n",
      "[[0, 0, 0, 0, 0], [0, 1, 2, 3, 4], [0, 2, 4, 6, 8]]\n"
     ]
    }
   ],
   "source": [
    "string = input()\n",
    "dimensions=[int(x) for x in string.split(',')]\n",
    "rowNum=dimensions[0]\n",
    "colNum=dimensions[1]\n",
    "multilist = [[0 for col in range(colNum)] for row in range(rowNum)]\n",
    "\n",
    "for row in range(rowNum):\n",
    "    for col in range(colNum):\n",
    "        multilist[row][col]= row*col\n",
    "print(multilist)"
   ]
  },
  {
   "cell_type": "markdown",
   "id": "8ef41d19",
   "metadata": {},
   "source": [
    "### Question 8: Write a program that accepts a comma separated sequence of words as input and prints the words in a comma-separated sequence after sorting them alphabetically. Hints: In case of input data being supplied to the question, it should be assumed to be a console input."
   ]
  },
  {
   "cell_type": "code",
   "execution_count": 53,
   "id": "ba8c2f2d",
   "metadata": {},
   "outputs": [
    {
     "name": "stdout",
     "output_type": "stream",
     "text": [
      "Enter some string using comma: without,hello,bag,world\n",
      "bag,hello,without,world\n"
     ]
    }
   ],
   "source": [
    "str_input=[x for x in input('Enter some string using comma: ').split(',')]\n",
    "str_input.sort()\n",
    "print(','.join(str_input))"
   ]
  },
  {
   "cell_type": "markdown",
   "id": "f55c0df3",
   "metadata": {},
   "source": [
    "### Question 9: Write a program that accepts sequence of lines as input and prints the lines after making all characters in the sentence capitalized. Hints: In case of input data being supplied to the question, it should be assumed to be a console input."
   ]
  },
  {
   "cell_type": "code",
   "execution_count": 56,
   "id": "f7958f19",
   "metadata": {},
   "outputs": [
    {
     "name": "stdout",
     "output_type": "stream",
     "text": [
      "adri is doing lab\n",
      "adri loves cse366 course\n",
      "\n",
      "ADRI IS DOING LAB\n",
      "ADRI LOVES CSE366 COURSE\n"
     ]
    }
   ],
   "source": [
    "lis = []\n",
    "while True:\n",
    "    s = input()\n",
    "    if s:\n",
    "        lis.append(s.upper())\n",
    "    else:\n",
    "        break;\n",
    "for i in lis:\n",
    "    print(i)"
   ]
  },
  {
   "cell_type": "markdown",
   "id": "a4650c7c",
   "metadata": {},
   "source": [
    "### Question 10: Write a program that accepts a sequence of whitespace separated words as input and prints the words after removing all duplicate words and sorting them alphanumerically. Hints: In case of input data being supplied to the question, it should be assumed to be a console input. We use set container to remove duplicated data automatically and then use sorted() to sort the data."
   ]
  },
  {
   "cell_type": "code",
   "execution_count": 64,
   "id": "e245ed62",
   "metadata": {},
   "outputs": [
    {
     "name": "stdout",
     "output_type": "stream",
     "text": [
      "Enter a sentence: Adri is is learning Adri new new things\n",
      "Output: \n",
      "Adri is learning new things\n"
     ]
    }
   ],
   "source": [
    "line = input('Enter a sentence: ')\n",
    "new_line =line.split(\" \")\n",
    "print(\"Output: \")\n",
    "print(\" \".join(sorted(list(set(new_line)))))"
   ]
  },
  {
   "cell_type": "markdown",
   "id": "36d3b53b",
   "metadata": {},
   "source": [
    "### Question 11: Write a program which accepts a sequence of comma separated 4 digit binary numbers as its input and then check whether they are divisible by 5 or not. The numbers that are divisible by 5 are to be printed in a comma separated sequence. Notes: Assume the data is input by console."
   ]
  },
  {
   "cell_type": "code",
   "execution_count": 9,
   "id": "89da58b2",
   "metadata": {},
   "outputs": [
    {
     "name": "stdout",
     "output_type": "stream",
     "text": [
      "0100,0011,1010,1001\n",
      "1010\n"
     ]
    }
   ],
   "source": [
    "div = []\n",
    "lis = [i for i in input().split(',')]\n",
    "for x in lis:\n",
    "    y = int(x, 2)\n",
    "    if not y%5:\n",
    "        div.append(x)\n",
    "print(','.join(items))"
   ]
  },
  {
   "cell_type": "markdown",
   "id": "eaa9c7b0",
   "metadata": {},
   "source": [
    "### Question 12: Write a program, which will find all such numbers between 1000 and 3000 (both included) such that each digit of the number is an even number. The numbers obtained should be printed in a comma-separated sequence on a single line. Hints: In case of input data being supplied to the question, it should be assumed to be a console input."
   ]
  },
  {
   "cell_type": "code",
   "execution_count": 16,
   "id": "36c95386",
   "metadata": {},
   "outputs": [
    {
     "name": "stdout",
     "output_type": "stream",
     "text": [
      "2000,2002,2004,2006,2008,2020,2022,2024,2026,2028,2040,2042,2044,2046,2048,2060,2062,2064,2066,2068,2080,2082,2084,2086,2088,2200,2202,2204,2206,2208,2220,2222,2224,2226,2228,2240,2242,2244,2246,2248,2260,2262,2264,2266,2268,2280,2282,2284,2286,2288,2400,2402,2404,2406,2408,2420,2422,2424,2426,2428,2440,2442,2444,2446,2448,2460,2462,2464,2466,2468,2480,2482,2484,2486,2488,2600,2602,2604,2606,2608,2620,2622,2624,2626,2628,2640,2642,2644,2646,2648,2660,2662,2664,2666,2668,2680,2682,2684,2686,2688,2800,2802,2804,2806,2808,2820,2822,2824,2826,2828,2840,2842,2844,2846,2848,2860,2862,2864,2866,2868,2880,2882,2884,2886,2888\n"
     ]
    }
   ],
   "source": [
    "numbers=[]\n",
    "for i in range(1000, 3001):\n",
    "    s = str(i)\n",
    "    if (int(s[0])%2==0) and (int(s[1])%2==0):\n",
    "        if(int(s[2])%2==0) and (int(s[3])%2==0):\n",
    "            numbers.append(s)\n",
    "print (\",\".join(numbers))"
   ]
  },
  {
   "cell_type": "markdown",
   "id": "a9562dfb",
   "metadata": {},
   "source": [
    "### Question 13: Write a program that accepts a sentence and calculate the number of letters and digits. Hints: In case of input data being supplied to the question, it should be assumed to be a console input."
   ]
  },
  {
   "cell_type": "code",
   "execution_count": 65,
   "id": "08c6f0ff",
   "metadata": {},
   "outputs": [
    {
     "name": "stdout",
     "output_type": "stream",
     "text": [
      "Enter a string: I am Adri from CSE366 course\n",
      "Main String :  I am Adri from CSE366 course\n",
      "No of letters: 20\n",
      "No of digits:  3\n"
     ]
    }
   ],
   "source": [
    "string = input('Enter a string: ')\n",
    "print (\"Main String : \", string)\n",
    "dic={\"DIGITS\":0, \"LETTERS\":0} #making dictionary\n",
    "for x in string:\n",
    "    if x.isdigit():\n",
    "        dic[\"DIGITS\"]+=1\n",
    "    elif x.isalpha():\n",
    "        dic[\"LETTERS\"]+=1\n",
    "    else:\n",
    "        pass\n",
    "print (\"No of letters:\",dic[\"LETTERS\"])\n",
    "print (\"No of digits: \",dic[\"DIGITS\"])"
   ]
  },
  {
   "cell_type": "markdown",
   "id": "bf2b1b46",
   "metadata": {},
   "source": [
    "### Question 14: Write a program that accepts a sentence and calculate the number of upper case letters and lower case letters. "
   ]
  },
  {
   "cell_type": "code",
   "execution_count": 20,
   "id": "ad8ffdb9",
   "metadata": {},
   "outputs": [
    {
     "name": "stdout",
     "output_type": "stream",
     "text": [
      "Hello world!\n",
      "Main String :  hello world! 123\n",
      "No. of Upper case characters :  1\n",
      "No. of Lower case Characters :  9\n"
     ]
    }
   ],
   "source": [
    "def string_test(string):\n",
    "    d={\"UPPER_CASE\":0, \"LOWER_CASE\":0} #implementation of dictionary\n",
    "    for char in string:\n",
    "        if char.isupper():\n",
    "           d[\"UPPER_CASE\"]+=1\n",
    "        elif char.islower():\n",
    "           d[\"LOWER_CASE\"]+=1\n",
    "        else:\n",
    "           pass\n",
    "    print (\"Main String : \", s)\n",
    "    print (\"No. of Upper case characters : \", d[\"UPPER_CASE\"])\n",
    "    print (\"No. of Lower case Characters : \", d[\"LOWER_CASE\"])\n",
    "string=input()\n",
    "string_test(string)"
   ]
  },
  {
   "cell_type": "markdown",
   "id": "5107134d",
   "metadata": {},
   "source": [
    "### Question 15: Write a program that computes the value of a+aa+aaa+aaaa with a given digit as the value of a."
   ]
  },
  {
   "cell_type": "code",
   "execution_count": 69,
   "id": "216d691f",
   "metadata": {},
   "outputs": [
    {
     "name": "stdout",
     "output_type": "stream",
     "text": [
      "Enter a input: 9\n",
      "Result:  11106\n"
     ]
    }
   ],
   "source": [
    "a = input(\"Enter a input: \")\n",
    "n1 = a*1\n",
    "n2 = a*2\n",
    "n3 = a*3\n",
    "n4 = a*4\n",
    "sum = int(n1) + int(n2) + int(n3) + int(n4)\n",
    "print('Result: ',sum)"
   ]
  },
  {
   "cell_type": "markdown",
   "id": "7a7c6818",
   "metadata": {},
   "source": [
    "### Question 16: Use a list comprehension to square each odd number in a list. The list is input by a sequence of comma-separated numbers."
   ]
  },
  {
   "cell_type": "code",
   "execution_count": 28,
   "id": "2334bd44",
   "metadata": {},
   "outputs": [
    {
     "name": "stdout",
     "output_type": "stream",
     "text": [
      "1,2,3,4,5,6,7,8,9\n",
      "1,3,5,7,9\n"
     ]
    }
   ],
   "source": [
    "numbers = input()\n",
    "odd = [x for x in numbers.split(\",\") if int(x)%2!=0] #using list comprehension\n",
    "print (\",\".join(odd))"
   ]
  },
  {
   "cell_type": "markdown",
   "id": "e2a8ef09",
   "metadata": {},
   "source": [
    "### Question 17: Write a program that computes the net amount of a bank account based a transaction log from console input. The transaction log format is shown as following: D 100, W 200. D means deposit while W means withdrawal."
   ]
  },
  {
   "cell_type": "code",
   "execution_count": 30,
   "id": "d8f335a1",
   "metadata": {},
   "outputs": [
    {
     "name": "stdout",
     "output_type": "stream",
     "text": [
      "D 300\n",
      "D 300\n",
      "W 200\n",
      "D 100\n",
      "\n",
      "500\n"
     ]
    }
   ],
   "source": [
    "netAmount = 0\n",
    "while True:\n",
    "    string = input()\n",
    "    if not string:\n",
    "        break\n",
    "    values = string.split(\" \")\n",
    "    transaction = values[0]\n",
    "    amount = int(values[1])\n",
    "    if transaction==\"D\":\n",
    "        netAmount+=amount\n",
    "    elif transaction==\"W\":\n",
    "        netAmount-=amount\n",
    "    else:\n",
    "        pass\n",
    "print(netAmount)"
   ]
  },
  {
   "cell_type": "markdown",
   "id": "579436bc",
   "metadata": {},
   "source": [
    "### Question 18: A website requires the users to input username and password to register. Write a program to check the validity of password input by users. 1. At least 1 letter between [a-z], 2. At least 1 number between [0-9], 1. At least 1 letter between [A-Z], 3. At least 1 character from [$#@],\n",
    "4. Minimum length of transaction password: 6\n",
    "5. Maximum length of transaction password: 12\n",
    "Your program should accept a sequence of comma separated passwords and will check them according to the above criteria. Passwords that match the criteria are to be printed, each separated by a comma."
   ]
  },
  {
   "cell_type": "code",
   "execution_count": 35,
   "id": "4e020ad3",
   "metadata": {},
   "outputs": [
    {
     "name": "stdout",
     "output_type": "stream",
     "text": [
      "ABd1234@1,a F1#,2w3E*,2We3345\n",
      "ABd1234@1\n"
     ]
    }
   ],
   "source": [
    "import re\n",
    "value = []\n",
    "items=[x for x in input().split(',')]\n",
    "for p in items:\n",
    "    if len(p)<6 or len(p)>12:\n",
    "        continue\n",
    "    else:\n",
    "        pass\n",
    "    if not re.search(\"[a-z]\",p):\n",
    "        continue\n",
    "    elif not re.search(\"[0-9]\",p):\n",
    "        continue\n",
    "    elif not re.search(\"[A-Z]\",p):\n",
    "        continue\n",
    "    elif not re.search(\"[$#@]\",p):\n",
    "        continue\n",
    "    elif re.search(\"\\s\",p):\n",
    "        continue\n",
    "    else:\n",
    "        pass\n",
    "    value.append(p)\n",
    "print (\",\".join(value))"
   ]
  },
  {
   "cell_type": "markdown",
   "id": "10427d2b",
   "metadata": {},
   "source": [
    "### Question 19: You are required to write a program to sort the (name, age, height) tuples by ascending order where name is string, age and height are numbers. The tuples are input by console. The sort criteria is: 1: Sort based on name; 2: Then sort based on age; 3: Then sort by score. The priority is that name > age > score."
   ]
  },
  {
   "cell_type": "code",
   "execution_count": 38,
   "id": "f06fa21c",
   "metadata": {},
   "outputs": [
    {
     "name": "stdout",
     "output_type": "stream",
     "text": [
      "Tom,19,80\n",
      "John,20,90\n",
      "Jony,17,91\n",
      "Jony,17,93\n",
      "Json,21,85\n",
      "\n",
      "[('John', '20', '90'), ('Jony', '17', '91'), ('Jony', '17', '93'), ('Json', '21', '85'), ('Tom', '19', '80')]\n"
     ]
    }
   ],
   "source": [
    "from operator import itemgetter\n",
    "lis = []\n",
    "while True:\n",
    "    string = input()\n",
    "    if not string:\n",
    "        break\n",
    "    lis.append(tuple(string.split(\",\")))\n",
    "\n",
    "print(sorted(lis,key=itemgetter(0,1,2)))"
   ]
  },
  {
   "cell_type": "markdown",
   "id": "c85e4884",
   "metadata": {},
   "source": [
    "### Question 20: Define a class with a generator which can iterate the numbers, which are divisible by 7, between a given range 0 and n. Hints: Consider use yield"
   ]
  },
  {
   "cell_type": "code",
   "execution_count": 48,
   "id": "807383e0",
   "metadata": {},
   "outputs": [
    {
     "name": "stdout",
     "output_type": "stream",
     "text": [
      "200\n",
      "[0, 7, 14, 21, 28, 35, 42, 49, 56, 63, 70, 77, 84, 91, 98, 105, 112, 119, 126, 133, 140, 147, 154, 161, 168, 175, 182, 189, 196]\n"
     ]
    }
   ],
   "source": [
    "def divisible(n):\n",
    "    numbers = 0\n",
    "    while numbers<n:\n",
    "        i=numbers\n",
    "        numbers=numbers+1\n",
    "        if i%7==0:\n",
    "            yield i\n",
    "lis=[]\n",
    "n = int(input())\n",
    "for numbers in divisible(n):\n",
    "    lis.append(numbers)\n",
    "print(lis)"
   ]
  },
  {
   "cell_type": "markdown",
   "id": "1d1483c5",
   "metadata": {},
   "source": [
    "### Question 21: A robot moves in a plane starting from the original point (0,0). The robot can move toward UP, DOWN, LEFT and RIGHT with a given steps. The trace of robot movement is shown as the following: UP 5, DOWN 3, LEFT 3, RIGHT 2. i the numbers after the direction are steps. Please write a program to compute the distance from current position after a sequence of movement and original point. If the distance is a float, then just print the nearest integer."
   ]
  },
  {
   "cell_type": "code",
   "execution_count": 3,
   "id": "3fab2d77",
   "metadata": {},
   "outputs": [
    {
     "name": "stdout",
     "output_type": "stream",
     "text": [
      "UP 5\n",
      "DOWN 3\n",
      "LEFT 3\n",
      "RIGHT 2\n",
      "\n",
      "2\n"
     ]
    }
   ],
   "source": [
    "import math\n",
    "pos = [0,0]\n",
    "while True:\n",
    "    s = input()\n",
    "    if not s:\n",
    "        break\n",
    "    movement = s.split(\" \")\n",
    "    direction = movement[0]\n",
    "    steps = int(movement[1])\n",
    "    if direction==\"UP\":\n",
    "        pos[0]+=steps\n",
    "    elif direction==\"DOWN\":\n",
    "        pos[0]-=steps\n",
    "    elif direction==\"LEFT\":\n",
    "        pos[1]-=steps\n",
    "    elif direction==\"RIGHT\":\n",
    "        pos[1]+=steps\n",
    "    else:\n",
    "        pass\n",
    "\n",
    "print(int(round(math.sqrt(pos[1]**2+pos[0]**2))))"
   ]
  },
  {
   "cell_type": "markdown",
   "id": "6d183942",
   "metadata": {},
   "source": [
    "### Question 22: Write a program to compute the frequency of the words from the input. The output should output after sorting the key alphanumerically. "
   ]
  },
  {
   "cell_type": "code",
   "execution_count": 12,
   "id": "f98b0231",
   "metadata": {},
   "outputs": [
    {
     "name": "stdout",
     "output_type": "stream",
     "text": [
      "input a line: New to Python or choosing between Python 2 and Python 3? Read Python 2 or Python 3.\n",
      "2:2\n",
      "3.:1\n",
      "3?:1\n",
      "New:1\n",
      "Python:5\n",
      "Read:1\n",
      "and:1\n",
      "between:1\n",
      "choosing:1\n",
      "or:2\n",
      "to:1\n"
     ]
    }
   ],
   "source": [
    "frequency = {}   # frequency of words in text\n",
    "in_line = input(\"input a line: \")\n",
    "for word in in_line.split():\n",
    "    frequency[word] = frequency.get(word,0)+1\n",
    "\n",
    "words = list(frequency.keys())\n",
    "words.sort()\n",
    "\n",
    "for i in words:\n",
    "    print(\"%s:%d\" % (i,frequency[i]))"
   ]
  },
  {
   "cell_type": "markdown",
   "id": "82dccead",
   "metadata": {},
   "source": [
    "### Question 23: Write a method which can calculate square value of number"
   ]
  },
  {
   "cell_type": "code",
   "execution_count": 15,
   "id": "be2dd94d",
   "metadata": {},
   "outputs": [
    {
     "name": "stdout",
     "output_type": "stream",
     "text": [
      "Enter a number to be squared: 5\n",
      "25\n"
     ]
    }
   ],
   "source": [
    "def square_value(num):\n",
    "    return num**2\n",
    "\n",
    "num = int(input(\"Enter a number to be squared: \"))\n",
    "print(square_value(num))"
   ]
  },
  {
   "cell_type": "markdown",
   "id": "945eadd3",
   "metadata": {},
   "source": [
    "### Question 24: Python has many built-in functions, and if you do not know how to use it, you can read document online or find some books. But Python has a built-in document function for every built-in functions. Please write a program to print some Python built-in functions documents, such as abs(), int(), raw_input(), And add document for your own function"
   ]
  },
  {
   "cell_type": "code",
   "execution_count": 24,
   "id": "90c148dd",
   "metadata": {},
   "outputs": [
    {
     "name": "stdout",
     "output_type": "stream",
     "text": [
      "Return the absolute value of the argument.\n",
      "int([x]) -> integer\n",
      "int(x, base=10) -> integer\n",
      "\n",
      "Convert a number or string to an integer, or return 0 if no arguments\n",
      "are given.  If x is a number, return x.__int__().  For floating point\n",
      "numbers, this truncates towards zero.\n",
      "\n",
      "If x is not a number or if base is given, then x must be a string,\n",
      "bytes, or bytearray instance representing an integer literal in the\n",
      "given base.  The literal can be preceded by '+' or '-' and be surrounded\n",
      "by whitespace.  The base defaults to 10.  Valid bases are 0 and 2-36.\n",
      "Base 0 means to interpret the base from the string as an integer literal.\n",
      ">>> int('0b100', base=0)\n",
      "4\n",
      "Forward raw_input to frontends\n",
      "\n",
      "        Raises\n",
      "        ------\n",
      "        StdinNotImplentedError if active frontend doesn't support stdin.\n",
      "        \n",
      "Enter a number: 9\n",
      "Square of the number:   81\n",
      "Square-root of the number:  3.0\n"
     ]
    }
   ],
   "source": [
    "print(abs.__doc__)\n",
    "print(int.__doc__)\n",
    "print(input.__doc__)\n",
    "\n",
    "def square(num):\n",
    "    return num ** 2\n",
    "def square_root(num):\n",
    "    return num ** (1/2)\n",
    "\n",
    "num = int(input(\"Enter a number: \"))\n",
    "print(\"Square of the number:  \",square(num))\n",
    "print(\"Square-root of the number: \",square_root(num))\n"
   ]
  },
  {
   "cell_type": "markdown",
   "id": "e09b995b",
   "metadata": {},
   "source": [
    "### Question 25: Define a class, which have a class parameter and have a same instance parameter. Hints: Define a instance parameter, need add it in __init__ method. You can init a object with construct parameter or set the value later"
   ]
  },
  {
   "cell_type": "code",
   "execution_count": 36,
   "id": "cfb977fa",
   "metadata": {},
   "outputs": [
    {
     "name": "stdout",
     "output_type": "stream",
     "text": [
      "Person name is Adri \n",
      "Person hobby is coding \n"
     ]
    }
   ],
   "source": [
    "class Person:\n",
    "    # Define the class parameter \"name\"\n",
    "    name = \"Person\"\n",
    "    \n",
    "    def __init__(self, name = None):\n",
    "        # self.name is the instance parameter\n",
    "        self.name = name\n",
    "\n",
    "Adri = Person(\"Adri\")\n",
    "print(\"%s name is %s \" % (Person.name, Adri.name))\n",
    "\n",
    "coding = Person()\n",
    "coding.name = \"coding\"\n",
    "print(\"%s hobby is %s \" % (Person.name, coding.name))"
   ]
  },
  {
   "cell_type": "markdown",
   "id": "a1acca05",
   "metadata": {},
   "source": [
    "### Question 26: Define a function which can compute the sum of two numbers."
   ]
  },
  {
   "cell_type": "markdown",
   "id": "6b213459",
   "metadata": {},
   "source": [
    "def summation(x,y):\n",
    "    return x+y\n",
    "\n",
    "a= float(input(\"Enter first number:\"))\n",
    "b= float(input(\"Enter second number:\"))\n",
    "print(\"Sum of the given two numbers : \", summation(a,b))"
   ]
  },
  {
   "cell_type": "markdown",
   "id": "e585faf3",
   "metadata": {},
   "source": [
    "### Question 27: Define a function that can convert a integer into a string and print it in console."
   ]
  },
  {
   "cell_type": "code",
   "execution_count": 43,
   "id": "81602a7b",
   "metadata": {},
   "outputs": [
    {
     "name": "stdout",
     "output_type": "stream",
     "text": [
      "Enter a number:50\n",
      "String: 50\n"
     ]
    }
   ],
   "source": [
    "def printString(n):\n",
    "    print('String:',str(n))\n",
    "printString(int(input(\"Enter a number:\")))"
   ]
  },
  {
   "cell_type": "markdown",
   "id": "4ee25ceb",
   "metadata": {},
   "source": [
    "### Question 28: Define a function that can receive two integral numbers in string form and compute their sum and then print it in console."
   ]
  },
  {
   "cell_type": "code",
   "execution_count": 47,
   "id": "6b6d3fea",
   "metadata": {},
   "outputs": [
    {
     "name": "stdout",
     "output_type": "stream",
     "text": [
      "Enter 1st number as string: 7\n",
      "Enter 2nd number as string: 5\n",
      "Output:  12\n"
     ]
    }
   ],
   "source": [
    "def printValue(str1,str2):\n",
    "    print(\"Output: \",int(str1)+int(str2)) #using int() to convert on integer\n",
    "\n",
    "str1=input(\"Enter 1st number as string: \")\n",
    "str2=input(\"Enter 2nd number as string: \")\n",
    "printValue(str1,str2) #taking as string"
   ]
  },
  {
   "cell_type": "markdown",
   "id": "9209b772",
   "metadata": {},
   "source": [
    "### Question 29: Define a function that can accept two strings as input and concatenate them and then print it in console."
   ]
  },
  {
   "cell_type": "code",
   "execution_count": 51,
   "id": "8ea42276",
   "metadata": {},
   "outputs": [
    {
     "name": "stdout",
     "output_type": "stream",
     "text": [
      "Enter 1st number as string: 5\n",
      "Enter 2nd number as string: 7\n",
      "After concatenate 2 strings:  57\n"
     ]
    }
   ],
   "source": [
    "def concatenate(str1,str2):\n",
    "    print(\"After concatenate 2 strings: \",str1+str2) #concatenate\n",
    "\n",
    "str1=input(\"Enter 1st number as string: \")\n",
    "str2=input(\"Enter 2nd number as string: \")\n",
    "concatenate(str1,str2) #taking as string"
   ]
  },
  {
   "cell_type": "markdown",
   "id": "2e06df5e",
   "metadata": {},
   "source": [
    "### Question 30: Define a function that can accept two strings as input and print the string with maximum length in console. If two strings have the same length, then the function should print al l strings line by line.\n"
   ]
  },
  {
   "cell_type": "code",
   "execution_count": 60,
   "id": "92b13070",
   "metadata": {},
   "outputs": [
    {
     "name": "stdout",
     "output_type": "stream",
     "text": [
      "Enter 1st string: adri\n",
      "Enter 2nd string: saha\n",
      "Both these string have same length: \n",
      "adri\n",
      "saha\n"
     ]
    }
   ],
   "source": [
    "def maxString(str1,str2):\n",
    "    len1 = len(str1)\n",
    "    len2 = len(str2)\n",
    "    if len1>len2:\n",
    "        print(\"Maximum length string is: \",str1)\n",
    "    elif len2>len1:\n",
    "        print(\"Maximum length string is: \",str2)\n",
    "    else:\n",
    "        print(\"Both these string have same length: \")\n",
    "        print(str1)\n",
    "        print(str2)\n",
    "\n",
    "str1=input(\"Enter 1st string: \")\n",
    "str2=input(\"Enter 2nd string: \")\n",
    "maxString(str1,str2)"
   ]
  },
  {
   "cell_type": "markdown",
   "id": "a51d5da1",
   "metadata": {},
   "source": [
    "### Question 31: Define a function that can accept an integer number as input and print the \"It is an even number\" if the number is even, otherwise print \"It is an odd number\"."
   ]
  },
  {
   "cell_type": "code",
   "execution_count": 61,
   "id": "8a1c5edc",
   "metadata": {},
   "outputs": [
    {
     "name": "stdout",
     "output_type": "stream",
     "text": [
      "Enter a number: 7\n",
      "Number is odd\n"
     ]
    }
   ],
   "source": [
    "def evenodd(n):\n",
    "    if n%2 == 0:\n",
    "        print(\"Number is even\")\n",
    "    else:\n",
    "        print(\"Number is odd\")\n",
    "\n",
    "num=int(input(\"Enter a number: \"))\n",
    "evenodd(num)\n"
   ]
  },
  {
   "cell_type": "markdown",
   "id": "8ed54969",
   "metadata": {},
   "source": [
    "### Question 32: Define a function which can print a dictionary where the keys are numbers between 1 and 3 (both included) and the values are square of keys."
   ]
  },
  {
   "cell_type": "code",
   "execution_count": 63,
   "id": "cc36662f",
   "metadata": {},
   "outputs": [
    {
     "name": "stdout",
     "output_type": "stream",
     "text": [
      "{1: 1, 2: 4, 3: 9}\n"
     ]
    }
   ],
   "source": [
    "def printDict():\n",
    "    d=dict()\n",
    "    #setting key and value in dictionary\n",
    "    d[1]=1\n",
    "    d[2]=2**2\n",
    "    d[3]=3**2\n",
    "    print(d)\n",
    "\n",
    "printDict()"
   ]
  },
  {
   "cell_type": "markdown",
   "id": "d8e304d1",
   "metadata": {},
   "source": [
    "### Question 33: Define a function which can print a dictionary where the keys are numbers between 1 and 20 (both included) and the values are square of keys."
   ]
  },
  {
   "cell_type": "code",
   "execution_count": 67,
   "id": "e1980e9a",
   "metadata": {},
   "outputs": [
    {
     "name": "stdout",
     "output_type": "stream",
     "text": [
      "{1: 1, 2: 4, 3: 9, 4: 16, 5: 25, 6: 36, 7: 49, 8: 64, 9: 81, 10: 100, 11: 121, 12: 144, 13: 169, 14: 196, 15: 225, 16: 256, 17: 289, 18: 324, 19: 361, 20: 400}\n"
     ]
    }
   ],
   "source": [
    "def printDict():\n",
    "    d=dict()\n",
    "    for i in range(1,21):\n",
    "        d[i]=i**2\n",
    "    print(d)\n",
    "\n",
    "printDict()"
   ]
  },
  {
   "cell_type": "markdown",
   "id": "8b803d5e",
   "metadata": {},
   "source": [
    "### Question 34: Define a function which can generate a dictionary where the keys are numbers between 1 and 20 (both included) and the values are square of keys. The function should just print the values only."
   ]
  },
  {
   "cell_type": "code",
   "execution_count": 72,
   "id": "16046fc7",
   "metadata": {},
   "outputs": [
    {
     "name": "stdout",
     "output_type": "stream",
     "text": [
      "1\n",
      "4\n",
      "9\n",
      "16\n",
      "25\n",
      "36\n",
      "49\n",
      "64\n",
      "81\n",
      "100\n",
      "121\n",
      "144\n",
      "169\n",
      "196\n",
      "225\n",
      "256\n",
      "289\n",
      "324\n",
      "361\n",
      "400\n"
     ]
    }
   ],
   "source": [
    "def printDict():\n",
    "    d=dict()\n",
    "    for i in range(1,21):\n",
    "        d[i]=i**2\n",
    "    for (key,val) in d.items():\n",
    "        print(val)\n",
    "printDict()"
   ]
  },
  {
   "cell_type": "markdown",
   "id": "525c0dd5",
   "metadata": {},
   "source": [
    "### Question 35: Define a function which can generate a dictionary where the keys are numbers between 1 and 20 (both included) and the values are square of keys. The function should just print the keys only."
   ]
  },
  {
   "cell_type": "code",
   "execution_count": 73,
   "id": "b3216b2a",
   "metadata": {},
   "outputs": [
    {
     "name": "stdout",
     "output_type": "stream",
     "text": [
      "1\n",
      "2\n",
      "3\n",
      "4\n",
      "5\n",
      "6\n",
      "7\n",
      "8\n",
      "9\n",
      "10\n",
      "11\n",
      "12\n",
      "13\n",
      "14\n",
      "15\n",
      "16\n",
      "17\n",
      "18\n",
      "19\n",
      "20\n"
     ]
    }
   ],
   "source": [
    "def printKey():\n",
    "    d=dict()\n",
    "    for i in range(1,21):\n",
    "        d[i]=i**2\n",
    "    for key in d.keys():\n",
    "        print(key)\n",
    "printKey()"
   ]
  },
  {
   "cell_type": "markdown",
   "id": "9ccb7e34",
   "metadata": {},
   "source": [
    "### Question 36: Define a function which can generate and print a list where the values are square of numbers between 1 and 20 (both included)."
   ]
  },
  {
   "cell_type": "code",
   "execution_count": 74,
   "id": "fc1ab314",
   "metadata": {},
   "outputs": [
    {
     "name": "stdout",
     "output_type": "stream",
     "text": [
      "[1, 4, 9, 16, 25, 36, 49, 64, 81, 100, 121, 144, 169, 196, 225, 256, 289, 324, 361, 400]\n"
     ]
    }
   ],
   "source": [
    "def printList():\n",
    "    lis=list()\n",
    "    for k in range(1,21):\n",
    "        lis.append(k**2)\n",
    "    print(lis)\n",
    "printList()"
   ]
  },
  {
   "cell_type": "markdown",
   "id": "52a5b03b",
   "metadata": {},
   "source": [
    "### Question 37: Define a function which can generate a list where the values are square of numbers between 1 and 20 (both included). Then the function needs to print the first 5 elements in the list."
   ]
  },
  {
   "cell_type": "code",
   "execution_count": 79,
   "id": "bda0f24a",
   "metadata": {},
   "outputs": [
    {
     "name": "stdout",
     "output_type": "stream",
     "text": [
      "[1, 4, 9, 16, 25]\n"
     ]
    }
   ],
   "source": [
    "def printList():\n",
    "    lis=list()\n",
    "    for k in range(1,21):\n",
    "        lis.append(k**2)\n",
    "    print(lis[:5]) #printing 1st 5 elements using slicing\n",
    "printList()"
   ]
  },
  {
   "cell_type": "markdown",
   "id": "7be238d3",
   "metadata": {},
   "source": [
    "### Question 38: Define a function which can generate a list where the values are square of numbers between 1 and 20 (both included). Then the function needs to print the last 5 elements in the list."
   ]
  },
  {
   "cell_type": "code",
   "execution_count": 78,
   "id": "04c61837",
   "metadata": {},
   "outputs": [
    {
     "name": "stdout",
     "output_type": "stream",
     "text": [
      "[256, 289, 324, 361, 400]\n"
     ]
    }
   ],
   "source": [
    "def printList():\n",
    "    lis=list()\n",
    "    for k in range(1,21):\n",
    "        lis.append(k**2)\n",
    "    print(lis[-5:]) #printing last 5 elements using slicing\n",
    "printList()"
   ]
  },
  {
   "cell_type": "markdown",
   "id": "3b8b0fb0",
   "metadata": {},
   "source": [
    "### Question 39: Define a function which can generate a list where the values are square of numbers between 1 and 20 (both included). Then the function needs to print all values except the first 5 elements in the list."
   ]
  },
  {
   "cell_type": "code",
   "execution_count": 82,
   "id": "a1fd07c3",
   "metadata": {},
   "outputs": [
    {
     "name": "stdout",
     "output_type": "stream",
     "text": [
      "[36, 49, 64, 81, 100, 121, 144, 169, 196, 225, 256, 289, 324, 361, 400]\n"
     ]
    }
   ],
   "source": [
    "def printList():\n",
    "    lis=list()\n",
    "    for k in range(1,21):\n",
    "        lis.append(k**2)\n",
    "    print(lis[5:]) #printing list starting from 5\n",
    "printList()"
   ]
  },
  {
   "cell_type": "markdown",
   "id": "1e0b9c56",
   "metadata": {},
   "source": [
    "### Question 40: Define a function which can generate and print a tuple where the value are square of numbers between 1 and 20 (both included). "
   ]
  },
  {
   "cell_type": "code",
   "execution_count": 85,
   "id": "898fa17f",
   "metadata": {},
   "outputs": [
    {
     "name": "stdout",
     "output_type": "stream",
     "text": [
      "(1, 4, 9, 16, 25, 36, 49, 64, 81, 100, 121, 144, 169, 196, 225, 256, 289, 324, 361, 400)\n"
     ]
    }
   ],
   "source": [
    "def printTuple():\n",
    "    lis=list()\n",
    "    for k in range(1,21):\n",
    "        lis.append(k**2)\n",
    "    print(tuple(lis)) #printing tuples\n",
    "    \n",
    "printTuple()"
   ]
  },
  {
   "cell_type": "markdown",
   "id": "b34bd830",
   "metadata": {},
   "source": [
    "### Question 41: With a given tuple (1,2,3,4,5,6,7,8,9,10), write a program to print the first half values in one line and the last half values in one line. "
   ]
  },
  {
   "cell_type": "code",
   "execution_count": 2,
   "id": "eb06b964",
   "metadata": {},
   "outputs": [
    {
     "name": "stdout",
     "output_type": "stream",
     "text": [
      "First half values:  (1, 2, 3, 4, 5)\n",
      "Last half values:  (6, 7, 8, 9, 10)\n"
     ]
    }
   ],
   "source": [
    "tuple1=(1,2,3,4,5,6,7,8,9,10)\n",
    "tp_first=tuple1[:5]\n",
    "tp_last=tuple1[5:]\n",
    "print('First half values: ',tp_first)\n",
    "print('Last half values: ',tp_last)"
   ]
  },
  {
   "cell_type": "markdown",
   "id": "52c30d64",
   "metadata": {},
   "source": [
    "### Question 42: Write a program to generate and print another tuple whose values are even numbers in the given tuple (1,2,3,4,5,6,7,8,9,10). \n"
   ]
  },
  {
   "cell_type": "code",
   "execution_count": 13,
   "id": "602cbca2",
   "metadata": {},
   "outputs": [
    {
     "name": "stdout",
     "output_type": "stream",
     "text": [
      "tuple items:  (1, 2, 3, 4, 5, 6, 7, 8, 9, 10)\n",
      "even tuples are: \n",
      "(2, 4, 6, 8, 10)\n"
     ]
    }
   ],
   "source": [
    "tp_item=(1,2,3,4,5,6,7,8,9,10)\n",
    "print('tuple items: ',tp_item)\n",
    "print('even tuples are: ')\n",
    "lis=list() #taking an empty list\n",
    "for tp in range(len(tp_item)):\n",
    "    if ((tp_item[tp]%2)==0):\n",
    "        lis.append(tp_item[tp])\n",
    "        \n",
    "even_tuple=tuple(lis)\n",
    "print(even_tuple)"
   ]
  },
  {
   "cell_type": "markdown",
   "id": "f9748fb4",
   "metadata": {},
   "source": [
    "### Question 43: Write a program which accepts a string as input to print \"Yes\" if the string is \"yes\" or \"YES\" or \"Yes\", otherwise print \"No\". "
   ]
  },
  {
   "cell_type": "code",
   "execution_count": 18,
   "id": "9164a2a2",
   "metadata": {},
   "outputs": [
    {
     "name": "stdout",
     "output_type": "stream",
     "text": [
      "yes\n",
      "Yes\n"
     ]
    }
   ],
   "source": [
    "string= input()\n",
    "if ((string==\"yes\") or (string==\"YES\") or (string==\"Yes\")):\n",
    "    print(\"Yes\")\n",
    "else:\n",
    "    print(\"No\")"
   ]
  },
  {
   "cell_type": "markdown",
   "id": "3498bee1",
   "metadata": {},
   "source": [
    "### Question 44: Write a program which can filter even numbers in a list by using filter function. The list is: [1,2,3,4,5,6,7,8,9,10]."
   ]
  },
  {
   "cell_type": "code",
   "execution_count": 22,
   "id": "b9e93331",
   "metadata": {},
   "outputs": [
    {
     "name": "stdout",
     "output_type": "stream",
     "text": [
      "Original number list:\n",
      "[1, 2, 3, 4, 5, 6, 7, 8, 9, 10]\n",
      "\n",
      "Even numbers from the list:\n",
      "[2, 4, 6, 8, 10]\n"
     ]
    }
   ],
   "source": [
    "numbers = [1, 2, 3, 4, 5, 6, 7, 8, 9, 10]\n",
    "print(\"Original number list:\")\n",
    "print(numbers)\n",
    "print(\"\\nEven numbers from the list:\")\n",
    "even_nums = list(filter(lambda x: x%2 == 0, numbers))\n",
    "print(even_nums)"
   ]
  },
  {
   "cell_type": "markdown",
   "id": "d0154304",
   "metadata": {},
   "source": [
    "### Question 45: Write a program which can map() to make a list whose elements are square of elements in [1,2,3,4,5,6,7,8,9,10]."
   ]
  },
  {
   "cell_type": "code",
   "execution_count": 31,
   "id": "5bc1df47",
   "metadata": {},
   "outputs": [
    {
     "name": "stdout",
     "output_type": "stream",
     "text": [
      "Original number list: [1, 2, 3, 4, 5, 6, 7, 8, 9, 10]\n",
      "Squared number list:  [1, 4, 9, 16, 25, 36, 49, 64, 81, 100]\n"
     ]
    }
   ],
   "source": [
    "lis = [1,2,3,4,5,6,7,8,9,10]\n",
    "print(\"Original number list:\", lis)\n",
    "squaredNumbers = list(map(lambda x: x**2, lis))\n",
    "print('Squared number list: ',squaredNumbers)"
   ]
  },
  {
   "cell_type": "markdown",
   "id": "817630c5",
   "metadata": {},
   "source": [
    "### Question 46: Write a program which can map() and filter() to make a list whose elements are square of even number in [1,2,3,4,5,6,7,8,9,10]."
   ]
  },
  {
   "cell_type": "code",
   "execution_count": 36,
   "id": "aee9b84a",
   "metadata": {},
   "outputs": [
    {
     "name": "stdout",
     "output_type": "stream",
     "text": [
      "Original number list: [1, 2, 3, 4, 5, 6, 7, 8, 9, 10]\n",
      "Even Squared number list:  [4, 16, 36, 64, 100]\n"
     ]
    }
   ],
   "source": [
    "lis = [1,2,3,4,5,6,7,8,9,10]\n",
    "print(\"Original number list:\", lis)\n",
    "evenSqr = list(map(lambda x: x**2, filter(lambda x: x%2==0,lis)))\n",
    "print('Even Squared number list: ',evenSqr)"
   ]
  },
  {
   "cell_type": "markdown",
   "id": "e785c170",
   "metadata": {},
   "source": [
    "### Question 47: Write a program which can filter() to make a list whose elements are even number between 1 and 20 (both included)."
   ]
  },
  {
   "cell_type": "code",
   "execution_count": 39,
   "id": "b344b5b2",
   "metadata": {},
   "outputs": [
    {
     "name": "stdout",
     "output_type": "stream",
     "text": [
      "Original number list: [1, 2, 3, 4, 5, 6, 7, 8, 9, 10]\n",
      "Even numbers on range:  [2, 4, 6, 8, 10, 12, 14, 16, 18, 20]\n"
     ]
    }
   ],
   "source": [
    "lis = [1,2,3,4,5,6,7,8,9,10]\n",
    "print(\"Original number list:\", lis)\n",
    "evenRange = list(filter(lambda x: x%2==0,range(1,21)))\n",
    "print('Even numbers on range: ',evenRange)"
   ]
  },
  {
   "cell_type": "markdown",
   "id": "0ff46867",
   "metadata": {},
   "source": [
    "### Question 48: Define a class named American which has a static method called printNationality."
   ]
  },
  {
   "cell_type": "code",
   "execution_count": 46,
   "id": "9d130f80",
   "metadata": {},
   "outputs": [
    {
     "name": "stdout",
     "output_type": "stream",
     "text": [
      "America\n",
      "America\n"
     ]
    }
   ],
   "source": [
    "class American(object):\n",
    "    @staticmethod\n",
    "    def printNationality():\n",
    "        print(\"America\")\n",
    "\n",
    "anAmerican = American()\n",
    "anAmerican.printNationality()\n",
    "American.printNationality()"
   ]
  },
  {
   "cell_type": "markdown",
   "id": "f99e3ddd",
   "metadata": {},
   "source": [
    "### Question 49: Define a class named American and its subclass NewYorker. "
   ]
  },
  {
   "cell_type": "code",
   "execution_count": 49,
   "id": "d4adea2a",
   "metadata": {},
   "outputs": [
    {
     "name": "stdout",
     "output_type": "stream",
     "text": [
      "America\n",
      "NewYorker\n",
      "<__main__.American object at 0x0000023BAE03E400>\n",
      "<__main__.NewYorker object at 0x0000023BAE03EF70>\n"
     ]
    }
   ],
   "source": [
    "class American():\n",
    "    pass\n",
    "\n",
    "class NewYorker(American):\n",
    "    pass\n",
    "\n",
    "anAmerican = American()\n",
    "aNewYorker = NewYorker()\n",
    "print(anAmerican)\n",
    "print(aNewYorker)"
   ]
  },
  {
   "cell_type": "markdown",
   "id": "b2bb51d4",
   "metadata": {},
   "source": [
    "### Question 50: Define a class named Circle which can be constructed by a radius. The Circle class has a method which can compute the area. "
   ]
  },
  {
   "cell_type": "code",
   "execution_count": 56,
   "id": "2e23033a",
   "metadata": {},
   "outputs": [
    {
     "name": "stdout",
     "output_type": "stream",
     "text": [
      "Enter a radius of circle: \n",
      "3\n",
      "Area of the circle:  28.26\n"
     ]
    }
   ],
   "source": [
    "class Circle(object):\n",
    "    def __init__(self, r):\n",
    "        self.radius = r\n",
    "\n",
    "    def area(self):\n",
    "        return self.radius**2*3.14\n",
    "\n",
    "print(\"Enter a radius of circle: \")\n",
    "rad=int(input())\n",
    "aCircle = Circle(rad)\n",
    "print('Area of the circle: ',aCircle.area())"
   ]
  },
  {
   "cell_type": "markdown",
   "id": "ad74ee28",
   "metadata": {},
   "source": [
    "### Question 51: Define a class named Rectangle which can be constructed by a length and width. The Rectangle class has a method which can compute the area. "
   ]
  },
  {
   "cell_type": "code",
   "execution_count": 5,
   "id": "5b9339d1",
   "metadata": {},
   "outputs": [
    {
     "name": "stdout",
     "output_type": "stream",
     "text": [
      "Enter length: \n",
      "2\n",
      "Enter width: \n",
      "10\n",
      "Area of rectangle:  20\n"
     ]
    }
   ],
   "source": [
    "class Rectangle(object):\n",
    "    def __init__(self, length, width):\n",
    "        self.length = length\n",
    "        self.width  = width\n",
    "\n",
    "    def area(self):\n",
    "        return self.length*self.width\n",
    "\n",
    "print(\"Enter length: \")\n",
    "length=int(input())\n",
    "print(\"Enter width: \")\n",
    "width=int(input())\n",
    "aRectangle = Rectangle(length,width)\n",
    "print('Area of rectangle: ',aRectangle.area())"
   ]
  },
  {
   "cell_type": "markdown",
   "id": "3ff172e6",
   "metadata": {},
   "source": [
    "### Question 52: Define a class named Shape and its subclass Square. The Square class has an init function which takes a length as argument. Both classes have a area function which can print the area of the shape where Shape's area is 0 by default."
   ]
  },
  {
   "cell_type": "code",
   "execution_count": 7,
   "id": "5136b0db",
   "metadata": {},
   "outputs": [
    {
     "name": "stdout",
     "output_type": "stream",
     "text": [
      "Enter a side: \n",
      "9\n",
      "Area of the area:  81\n"
     ]
    }
   ],
   "source": [
    "class Shape(object):\n",
    "    def __init__(self):\n",
    "        pass\n",
    "\n",
    "    def area(self):\n",
    "        return 0\n",
    "\n",
    "class Square(Shape):\n",
    "    def __init__(self, l):\n",
    "        Shape.__init__(self)\n",
    "        self.length = l\n",
    "\n",
    "    def area(self):\n",
    "        return self.length*self.length\n",
    "    \n",
    "print(\"Enter a side: \")\n",
    "side=int(input())\n",
    "aSquare= Square(side)\n",
    "print ('Area of the area: ',aSquare.area())\n"
   ]
  },
  {
   "cell_type": "markdown",
   "id": "a228ff93",
   "metadata": {},
   "source": [
    "### Question 53:Please raise a RuntimeError exception.\n"
   ]
  },
  {
   "cell_type": "code",
   "execution_count": 13,
   "id": "fefbda16",
   "metadata": {},
   "outputs": [
    {
     "ename": "RuntimeError",
     "evalue": "Wrong",
     "output_type": "error",
     "traceback": [
      "\u001b[1;31m---------------------------------------------------------------------------\u001b[0m",
      "\u001b[1;31mRuntimeError\u001b[0m                              Traceback (most recent call last)",
      "\u001b[1;32m<ipython-input-13-9e3b4b0eae14>\u001b[0m in \u001b[0;36m<module>\u001b[1;34m\u001b[0m\n\u001b[1;32m----> 1\u001b[1;33m \u001b[1;32mraise\u001b[0m \u001b[0mRuntimeError\u001b[0m\u001b[1;33m(\u001b[0m\u001b[1;34m'Wrong'\u001b[0m\u001b[1;33m)\u001b[0m\u001b[1;33m\u001b[0m\u001b[1;33m\u001b[0m\u001b[0m\n\u001b[0m",
      "\u001b[1;31mRuntimeError\u001b[0m: Wrong"
     ]
    }
   ],
   "source": [
    "raise RuntimeError('Wrong')"
   ]
  },
  {
   "cell_type": "markdown",
   "id": "14f517fb",
   "metadata": {},
   "source": [
    "### Question 54: Write a function to compute 5/0 and use try/except to catch the exceptions."
   ]
  },
  {
   "cell_type": "code",
   "execution_count": 16,
   "id": "7f2c67c3",
   "metadata": {},
   "outputs": [
    {
     "name": "stdout",
     "output_type": "stream",
     "text": [
      "division by zero!\n",
      "Caught an exception\n",
      "In finally block for cleanup\n"
     ]
    }
   ],
   "source": [
    "def div_except():\n",
    "    return 5/0\n",
    "\n",
    "try:\n",
    "    div_except()\n",
    "except ZeroDivisionError:\n",
    "    print(\"division by zero!\")\n",
    "    print('Caught an exception')\n",
    "finally:\n",
    "    print('In finally block for cleanup')"
   ]
  },
  {
   "cell_type": "markdown",
   "id": "5f01f72f",
   "metadata": {},
   "source": [
    "### Question 55: Define a custom exception class which takes a string message as attribute."
   ]
  },
  {
   "cell_type": "code",
   "execution_count": 20,
   "id": "b1b65b2d",
   "metadata": {},
   "outputs": [],
   "source": [
    "class error_detect(Exception):\n",
    "    \"\"\"My own exception class\n",
    "\n",
    "    Attributes:\n",
    "        msg  -- explanation of the error\n",
    "    \"\"\"\n",
    "\n",
    "    def __init__(self, msg):\n",
    "        self.msg = msg\n",
    "\n",
    "error = error_detect(\"something wrong\")"
   ]
  },
  {
   "cell_type": "markdown",
   "id": "0f9da19b",
   "metadata": {},
   "source": [
    "### Question 56: Assuming that we have some email addresses in the \"username@companyname.com\" format, please write program to print the user name of a given email address. Both user names and company names are composed of letters only."
   ]
  },
  {
   "cell_type": "code",
   "execution_count": 39,
   "id": "db3400a0",
   "metadata": {},
   "outputs": [
    {
     "name": "stdout",
     "output_type": "stream",
     "text": [
      "adri@gmail.com\n",
      "adri\n"
     ]
    }
   ],
   "source": [
    "import re\n",
    "email = input()\n",
    "pattern = \"(\\w+)@((\\w+\\.)+(com))\"\n",
    "part = re.match(pattern,email)\n",
    "print(part.group(1))"
   ]
  },
  {
   "cell_type": "markdown",
   "id": "b8480f87",
   "metadata": {},
   "source": [
    "### Question 57: Assuming that we have some email addresses in the \"username@companyname.com\" format, please write program to print the company name of a given email address. Both user names and company names are composed of letters only."
   ]
  },
  {
   "cell_type": "code",
   "execution_count": 40,
   "id": "3ee02eeb",
   "metadata": {},
   "outputs": [
    {
     "name": "stdout",
     "output_type": "stream",
     "text": [
      "adrisaha@gmail.com\n",
      "gmail\n"
     ]
    }
   ],
   "source": [
    "import re\n",
    "email =input()\n",
    "pattern = \"(\\w+)@(\\w+)\\.(com)\"\n",
    "part = re.match(pattern,email)\n",
    "print(part.group(2))"
   ]
  },
  {
   "cell_type": "markdown",
   "id": "7e58bc0d",
   "metadata": {},
   "source": [
    "### Question 58: Write a program which accepts a sequence of words separated by whitespace as input to print the words composed of digits only."
   ]
  },
  {
   "cell_type": "code",
   "execution_count": 38,
   "id": "09ef3db1",
   "metadata": {},
   "outputs": [
    {
     "name": "stdout",
     "output_type": "stream",
     "text": [
      "Adri have 1 cat & 2 dogs\n",
      "['1', '2']\n"
     ]
    }
   ],
   "source": [
    "import re\n",
    "str = input()\n",
    "print(re.findall(\"\\d+\",str))"
   ]
  },
  {
   "cell_type": "markdown",
   "id": "10290181",
   "metadata": {},
   "source": [
    "### Question 59: Print a unicode string \"hello world\"."
   ]
  },
  {
   "cell_type": "code",
   "execution_count": 41,
   "id": "e45af81d",
   "metadata": {},
   "outputs": [
    {
     "name": "stdout",
     "output_type": "stream",
     "text": [
      "hello world!\n"
     ]
    }
   ],
   "source": [
    "unicodeString = u\"hello world!\"\n",
    "print(unicodeString)"
   ]
  },
  {
   "cell_type": "markdown",
   "id": "2421b708",
   "metadata": {},
   "source": [
    "### Question 60: Write a program to read an ASCII string and to convert it to a unicode string encoded by utf-8."
   ]
  },
  {
   "cell_type": "code",
   "execution_count": 49,
   "id": "2b5261e9",
   "metadata": {},
   "outputs": [
    {
     "name": "stdout",
     "output_type": "stream",
     "text": [
      "adri is in class\n",
      "b'adri is in class'\n"
     ]
    }
   ],
   "source": [
    "string = input()\n",
    "uni = string.encode('utf-8')\n",
    "print(uni)"
   ]
  },
  {
   "cell_type": "markdown",
   "id": "4451789a",
   "metadata": {},
   "source": [
    "### Question 61: Write a special comment to indicate a Python source code file is in unicode."
   ]
  },
  {
   "cell_type": "code",
   "execution_count": 50,
   "id": "6cb3cb1e",
   "metadata": {},
   "outputs": [],
   "source": [
    "# -*- coding: utf-8 -*-"
   ]
  },
  {
   "cell_type": "markdown",
   "id": "badcdb36",
   "metadata": {},
   "source": [
    "### Question 62: Write a program to compute 1/2+2/3+3/4+...+n/n+1 with a given n input by console (n>0)."
   ]
  },
  {
   "cell_type": "code",
   "execution_count": 57,
   "id": "8f3815e2",
   "metadata": {},
   "outputs": [
    {
     "name": "stdout",
     "output_type": "stream",
     "text": [
      "Enter n:\n",
      "5\n",
      "Series result:  3.55\n"
     ]
    }
   ],
   "source": [
    "print('Enter n:')\n",
    "n=int(input())\n",
    "sum=0.0\n",
    "for i in range(1,n+1):\n",
    "    sum += float(float(i)/(i+1))\n",
    "print('Series result: ',(round(sum,2)))"
   ]
  },
  {
   "cell_type": "markdown",
   "id": "2e875059",
   "metadata": {},
   "source": [
    "### Question 63: Write a program to compute: f(n)=f(n-1)+100 when n>0 and f(0)=1. with a given n input by console (n>0)."
   ]
  },
  {
   "cell_type": "code",
   "execution_count": 71,
   "id": "000442ca",
   "metadata": {},
   "outputs": [
    {
     "name": "stdout",
     "output_type": "stream",
     "text": [
      "5\n",
      "Result: 500\n"
     ]
    }
   ],
   "source": [
    "def fun(n):\n",
    "    if n==0:\n",
    "        return 0\n",
    "    else:\n",
    "        return f(n-1)+100\n",
    "\n",
    "n=int(input())\n",
    "print('Result:',fun(n))\n"
   ]
  },
  {
   "cell_type": "markdown",
   "id": "d849b534",
   "metadata": {},
   "source": [
    "### Question 64: he Fibonacci Sequence is computed based on the following formula: f(n)=0 if n=0, f(n)=1 if n=1, f(n)=f(n-1)+f(n-2) if n>1. Please write a program to compute the value of f(n) with a given n input by console."
   ]
  },
  {
   "cell_type": "code",
   "execution_count": 81,
   "id": "ecd91992",
   "metadata": {},
   "outputs": [
    {
     "name": "stdout",
     "output_type": "stream",
     "text": [
      "Enter a number:7\n",
      "Fibonacci sequence result: 13\n"
     ]
    }
   ],
   "source": [
    "def fibo_adri(n):\n",
    "    if n == 0: return 0\n",
    "    elif n == 1: return 1\n",
    "    else: return fibo_adri(n-1)+fibo_adri(n-2)\n",
    "\n",
    "n=int(input('Enter a number:'))\n",
    "print('Fibonacci sequence result:', fibo_adri(n))"
   ]
  },
  {
   "cell_type": "markdown",
   "id": "25d01a6e",
   "metadata": {},
   "source": [
    "### Question 65: The Fibonacci Sequence is computed based on the following formula: f(n)=0 if n=0, f(n)=1 if n=1, f(n)=f(n-1)+f(n-2) if n>1. Please write a program using list comprehension to print the Fibonacci Sequence in comma separated form with a given n input by console."
   ]
  },
  {
   "cell_type": "code",
   "execution_count": 82,
   "id": "7b0d8de5",
   "metadata": {},
   "outputs": [
    {
     "name": "stdout",
     "output_type": "stream",
     "text": [
      "Enter a number:7\n",
      "Fibonacci sequence : [0, 1, 1, 2, 3, 5, 8, 13]\n"
     ]
    }
   ],
   "source": [
    "def fibo_adri(n):\n",
    "    if n == 0: return 0\n",
    "    elif n == 1: return 1\n",
    "    else: return fibo_adri(n-1)+fibo_adri(n-2)\n",
    "\n",
    "n=int(input('Enter a number:'))\n",
    "seq = [(fibo_adri(x)) for x in range(0, n+1)]\n",
    "print('Fibonacci sequence :', seq)"
   ]
  },
  {
   "cell_type": "markdown",
   "id": "a32b20ae",
   "metadata": {},
   "source": [
    "### Question 66: Please write a program using list comprehension to print the Fibonacci Sequence in comma separated form with a given n input by console."
   ]
  },
  {
   "cell_type": "code",
   "execution_count": 84,
   "id": "b13609c9",
   "metadata": {},
   "outputs": [
    {
     "name": "stdout",
     "output_type": "stream",
     "text": [
      "Enter a number:7\n",
      "Fibonacci sequence : [0, 1, 1, 2, 3, 5, 8, 13]\n"
     ]
    }
   ],
   "source": [
    "def fibo_adri(n):\n",
    "    if n == 0: return 0\n",
    "    elif n == 1: return 1\n",
    "    else: return fibo_adri(n-1)+fibo_adri(n-2)\n",
    "\n",
    "n=int(input('Enter a number:'))\n",
    "seq = [(fibo_adri(x)) for x in range(0, n+1)]\n",
    "print('Fibonacci sequence :', seq)"
   ]
  },
  {
   "cell_type": "markdown",
   "id": "3f00db90",
   "metadata": {},
   "source": [
    "### Question 67: Please write a program using generator to print the even numbers between 0 and n in comma separated form while n is input by console."
   ]
  },
  {
   "cell_type": "code",
   "execution_count": 89,
   "id": "611de4d4",
   "metadata": {},
   "outputs": [
    {
     "name": "stdout",
     "output_type": "stream",
     "text": [
      "Enter the limit: 10\n",
      "Even numbers:  [0, 2, 4, 6, 8, 10]\n"
     ]
    }
   ],
   "source": [
    "def adri_even(n):\n",
    "    i=0\n",
    "    while i<=n:\n",
    "        if i%2==0:\n",
    "            yield i\n",
    "        i+=1\n",
    "n=int(input('Enter the limit: '))\n",
    "values = []\n",
    "for i in adri_even(n):\n",
    "    values.append(i)\n",
    "print('Even numbers: ',values)"
   ]
  },
  {
   "cell_type": "markdown",
   "id": "9f77a5c8",
   "metadata": {},
   "source": [
    "### Question 68: Please write a program using generator to print the numbers which can be divisible by 5 and 7 between 0 and n in comma separated form while n is input by console."
   ]
  },
  {
   "cell_type": "code",
   "execution_count": 93,
   "id": "15cb42bc",
   "metadata": {},
   "outputs": [
    {
     "name": "stdout",
     "output_type": "stream",
     "text": [
      "Enter n: 100\n",
      "Numbers which is divisible by 5 & 7:  [0, 35, 70]\n"
     ]
    }
   ],
   "source": [
    "def divisible(n):\n",
    "    for i in range(n+1):\n",
    "        if (i%5==0) and (i%7==0):\n",
    "            yield i\n",
    "\n",
    "n=int(input('Enter n: '))\n",
    "values = []\n",
    "for i in divisible(n):\n",
    "    values.append(i)\n",
    "\n",
    "print('Numbers which is divisible by 5 & 7: ',values)\n"
   ]
  },
  {
   "cell_type": "markdown",
   "id": "5ebfc80d",
   "metadata": {},
   "source": [
    "### Question 69: Please write assert statements to verify that every number in the list [2,4,6,8] is even."
   ]
  },
  {
   "cell_type": "code",
   "execution_count": 97,
   "id": "fd586ad3",
   "metadata": {},
   "outputs": [
    {
     "ename": "AssertionError",
     "evalue": "5 is not an even number",
     "output_type": "error",
     "traceback": [
      "\u001b[1;31m---------------------------------------------------------------------------\u001b[0m",
      "\u001b[1;31mAssertionError\u001b[0m                            Traceback (most recent call last)",
      "\u001b[1;32m<ipython-input-97-cbedef184399>\u001b[0m in \u001b[0;36m<module>\u001b[1;34m\u001b[0m\n\u001b[0;32m      1\u001b[0m \u001b[0mli\u001b[0m \u001b[1;33m=\u001b[0m \u001b[1;33m[\u001b[0m\u001b[1;36m2\u001b[0m\u001b[1;33m,\u001b[0m\u001b[1;36m4\u001b[0m\u001b[1;33m,\u001b[0m\u001b[1;36m5\u001b[0m\u001b[1;33m,\u001b[0m\u001b[1;36m6\u001b[0m\u001b[1;33m,\u001b[0m\u001b[1;36m8\u001b[0m\u001b[1;33m]\u001b[0m\u001b[1;33m\u001b[0m\u001b[1;33m\u001b[0m\u001b[0m\n\u001b[0;32m      2\u001b[0m \u001b[1;32mfor\u001b[0m \u001b[0mi\u001b[0m \u001b[1;32min\u001b[0m \u001b[0mli\u001b[0m\u001b[1;33m:\u001b[0m\u001b[1;33m\u001b[0m\u001b[1;33m\u001b[0m\u001b[0m\n\u001b[1;32m----> 3\u001b[1;33m     \u001b[1;32massert\u001b[0m \u001b[0mi\u001b[0m\u001b[1;33m%\u001b[0m\u001b[1;36m2\u001b[0m\u001b[1;33m==\u001b[0m\u001b[1;36m0\u001b[0m\u001b[1;33m,\u001b[0m \u001b[1;34m\"{} is not an even number\"\u001b[0m\u001b[1;33m.\u001b[0m\u001b[0mformat\u001b[0m\u001b[1;33m(\u001b[0m\u001b[0mi\u001b[0m\u001b[1;33m)\u001b[0m\u001b[1;33m\u001b[0m\u001b[1;33m\u001b[0m\u001b[0m\n\u001b[0m",
      "\u001b[1;31mAssertionError\u001b[0m: 5 is not an even number"
     ]
    }
   ],
   "source": [
    "li = [2,4,5,6,8]\n",
    "for i in li:\n",
    "    assert i%2==0, \"{} is not an even number\".format(i)"
   ]
  },
  {
   "cell_type": "markdown",
   "id": "c6f35d7c",
   "metadata": {},
   "source": [
    "### Question 70: Please write a program which accepts basic mathematic expression from console and print the evaluation result."
   ]
  },
  {
   "cell_type": "code",
   "execution_count": 100,
   "id": "6221cc74",
   "metadata": {},
   "outputs": [
    {
     "name": "stdout",
     "output_type": "stream",
     "text": [
      "Enter a mathmatical expression: 35+5\n",
      "Result:  40\n"
     ]
    }
   ],
   "source": [
    "expression=input('Enter a mathmatical expression: ')\n",
    "print('Result: ',eval(expression))"
   ]
  },
  {
   "cell_type": "markdown",
   "id": "d57aad04",
   "metadata": {},
   "source": [
    "### Question 71: Please write a binary search function which searches an item in a sorted list. The function should return the index of element to be searched in the list."
   ]
  },
  {
   "cell_type": "code",
   "execution_count": 110,
   "id": "bf863d8c",
   "metadata": {},
   "outputs": [
    {
     "name": "stdout",
     "output_type": "stream",
     "text": [
      "Enter the length of list: 5\n",
      "1\n",
      "2\n",
      "4\n",
      "5\n",
      "7\n",
      "[1, 2, 4, 5, 7]\n",
      "Enter the element want to search: 5\n",
      "The item has been found on index:  3\n"
     ]
    }
   ],
   "source": [
    "import math\n",
    "def bin_search(lis, element):\n",
    "    bottom = 0 #1st index of list\n",
    "    top = len(lis)-1 #last index of list\n",
    "    index = -1 #intitially & if not find the searched value\n",
    "    while top>=bottom and index==-1:\n",
    "        mid = int(math.floor((top+bottom)/2.0))\n",
    "        if lis[mid]==element:\n",
    "            index = mid\n",
    "        elif lis[mid]>element:\n",
    "            top = mid-1\n",
    "        else:\n",
    "            bottom = mid+1\n",
    "            \n",
    "    return index\n",
    "\n",
    "sortedList=[]\n",
    "n= int(input('Enter the length of list: '))\n",
    "for i in range(0,n):\n",
    "    elements= int(input())\n",
    "    sortedList.append(elements)\n",
    "print(sortedList)\n",
    "searched=int(input('Enter the element want to search: '))\n",
    "print('The item has been found on index: ',bin_search(sortedList,searched))"
   ]
  },
  {
   "cell_type": "markdown",
   "id": "55e6d2b1",
   "metadata": {},
   "source": [
    "### Question 72: Please generate a random float where the value is between 10 and 100 using Python math module."
   ]
  },
  {
   "cell_type": "code",
   "execution_count": 125,
   "id": "be2de131",
   "metadata": {},
   "outputs": [
    {
     "name": "stdout",
     "output_type": "stream",
     "text": [
      "Random float is:  70.867\n"
     ]
    }
   ],
   "source": [
    "import random\n",
    "r=random.uniform(10,100)\n",
    "print('Random float is: ',round(r,3))\n"
   ]
  },
  {
   "cell_type": "markdown",
   "id": "b95a435b",
   "metadata": {},
   "source": [
    "### Question 73: Please generate a random float where the value is between 5 and 95 using Python math module."
   ]
  },
  {
   "cell_type": "code",
   "execution_count": 124,
   "id": "a42447d1",
   "metadata": {},
   "outputs": [
    {
     "name": "stdout",
     "output_type": "stream",
     "text": [
      "Random float is:  85.459\n"
     ]
    }
   ],
   "source": [
    "import random\n",
    "r=random.uniform(5,95)\n",
    "print('Random float is: ',round(r,3))"
   ]
  },
  {
   "cell_type": "markdown",
   "id": "84a03c78",
   "metadata": {},
   "source": [
    "### Question 74: Please write a program to output a random even number between 0 and 10 inclusive using random module and list comprehension."
   ]
  },
  {
   "cell_type": "code",
   "execution_count": 138,
   "id": "fd139d74",
   "metadata": {},
   "outputs": [
    {
     "name": "stdout",
     "output_type": "stream",
     "text": [
      "Result is:  8\n"
     ]
    }
   ],
   "source": [
    "import random\n",
    "print('Result is: ',random.choice([i for i in range(11) if i%2==0]))"
   ]
  },
  {
   "cell_type": "markdown",
   "id": "728b730d",
   "metadata": {},
   "source": [
    "### Question 75: Please write a program to output a random number, which is divisible by 5 and 7, between 0 and 10 inclusive using random module and list comprehension."
   ]
  },
  {
   "cell_type": "code",
   "execution_count": 149,
   "id": "e68d918d",
   "metadata": {},
   "outputs": [
    {
     "name": "stdout",
     "output_type": "stream",
     "text": [
      "Result is:  0\n"
     ]
    }
   ],
   "source": [
    "import random\n",
    "print('Result is: ',random.choice([i for i in range(11) if i%5==0 and i%7==0]))"
   ]
  },
  {
   "cell_type": "markdown",
   "id": "3fdb82f7",
   "metadata": {},
   "source": [
    "### Question 76: Please write a program to generate a list with 5 random numbers between 100 and 200 inclusive."
   ]
  },
  {
   "cell_type": "code",
   "execution_count": 151,
   "id": "2d504077",
   "metadata": {},
   "outputs": [
    {
     "name": "stdout",
     "output_type": "stream",
     "text": [
      "Random list:  [90, 51, 34, 20, 46]\n"
     ]
    }
   ],
   "source": [
    "import random\n",
    "print('Random list: ',random.sample(range(100),5))"
   ]
  },
  {
   "cell_type": "markdown",
   "id": "fa76d436",
   "metadata": {},
   "source": [
    "### Question 77: Please write a program to randomly generate a list with 5 even numbers between 100 and 200 inclusive."
   ]
  },
  {
   "cell_type": "code",
   "execution_count": 152,
   "id": "6e747da7",
   "metadata": {},
   "outputs": [
    {
     "name": "stdout",
     "output_type": "stream",
     "text": [
      "[102, 160, 110, 188, 108]\n"
     ]
    }
   ],
   "source": [
    "import random\n",
    "print(random.sample([i for i in range(100,201) if i%2==0],5))"
   ]
  },
  {
   "cell_type": "markdown",
   "id": "59357feb",
   "metadata": {},
   "source": [
    "### Question 78: Please write a program to randomly generate a list with 5 numbers, which are divisible by 5 and 7 , between 1 and 1000 inclusive."
   ]
  },
  {
   "cell_type": "code",
   "execution_count": 153,
   "id": "d5d3c547",
   "metadata": {},
   "outputs": [
    {
     "name": "stdout",
     "output_type": "stream",
     "text": [
      "[910, 210, 455, 490, 350]\n"
     ]
    }
   ],
   "source": [
    "import random\n",
    "print(random.sample([i for i in range(1,1001) if i%5==0 and i%7==0],5))"
   ]
  },
  {
   "cell_type": "markdown",
   "id": "8ded5a33",
   "metadata": {},
   "source": [
    "### Question 79: Please write a program to randomly print a integer number between 7 and 15 inclusive."
   ]
  },
  {
   "cell_type": "code",
   "execution_count": 155,
   "id": "3c547595",
   "metadata": {},
   "outputs": [
    {
     "name": "stdout",
     "output_type": "stream",
     "text": [
      "Integer between 7 to 15:  13\n"
     ]
    }
   ],
   "source": [
    "import random\n",
    "print('Integer between 7 to 15: ',random.randrange(7,16))"
   ]
  },
  {
   "cell_type": "markdown",
   "id": "60f8cc64",
   "metadata": {},
   "source": [
    "### Question 80: Please write a program to compress and decompress the string \"hello world!hello world!hello world!hello world!\"."
   ]
  },
  {
   "cell_type": "code",
   "execution_count": 158,
   "id": "140686e5",
   "metadata": {},
   "outputs": [
    {
     "name": "stdout",
     "output_type": "stream",
     "text": [
      "Compressed string: b'x\\x9c\\xcbH\\xcd\\xc9\\xc9W(\\xcf/\\xcaIQ\\xcc \\x82\\r\\x00\\xbd[\\x11\\xf5'\n",
      "Decompressed string:  b'hello world!hello world!hello world!hello world!'\n"
     ]
    }
   ],
   "source": [
    "import zlib\n",
    "string = 'hello world!hello world!hello world!hello world!'\n",
    "compressed = zlib.compress(string.encode())\n",
    "print('Compressed string:',t)\n",
    "print('Decompressed string: ',zlib.decompress(compressed))"
   ]
  },
  {
   "cell_type": "markdown",
   "id": "004d4493",
   "metadata": {},
   "source": [
    "### Question 81: Please write a program to print the running time of execution of \"1+1\" for 100 times."
   ]
  },
  {
   "cell_type": "code",
   "execution_count": 160,
   "id": "8e2a00c7",
   "metadata": {},
   "outputs": [
    {
     "name": "stdout",
     "output_type": "stream",
     "text": [
      "Running time:  3.337986099999398\n"
     ]
    }
   ],
   "source": [
    "from timeit import Timer\n",
    "t = Timer(\"for i in range(100):1+1\")\n",
    "print('Running time: ',t.timeit())"
   ]
  },
  {
   "cell_type": "markdown",
   "id": "900e6c65",
   "metadata": {},
   "source": [
    "### Question 82: Please write a program to shuffle and print the list [3,6,7,8]."
   ]
  },
  {
   "cell_type": "code",
   "execution_count": 167,
   "id": "cba9a695",
   "metadata": {},
   "outputs": [
    {
     "name": "stdout",
     "output_type": "stream",
     "text": [
      "Given list:  [2, 1, 9, 4]\n",
      "Shuffled list:  [9, 4, 2, 1]\n"
     ]
    }
   ],
   "source": [
    "from random import shuffle\n",
    "lis = [2,1,9,4]\n",
    "print('Given list: ',lis)\n",
    "shuffle(lis)\n",
    "print('Shuffled list: ',lis)"
   ]
  },
  {
   "cell_type": "markdown",
   "id": "4102ce54",
   "metadata": {},
   "source": [
    "### Question 83: Please write a program to generate all sentences where subject is in [\"I\", \"You\"] and verb is in [\"Play\", \"Love\"] and the object is in [\"Hockey\",\"Football\"]."
   ]
  },
  {
   "cell_type": "code",
   "execution_count": 175,
   "id": "aff6af10",
   "metadata": {},
   "outputs": [
    {
     "name": "stdout",
     "output_type": "stream",
     "text": [
      "Sentence: I Play Hockey\n",
      "Sentence: I Play Football\n",
      "Sentence: I Love Hockey\n",
      "Sentence: I Love Football\n",
      "Sentence: You Play Hockey\n",
      "Sentence: You Play Football\n",
      "Sentence: You Love Hockey\n",
      "Sentence: You Love Football\n"
     ]
    }
   ],
   "source": [
    "subjects=[\"I\", \"You\"]\n",
    "verbs=[\"Play\", \"Love\"]\n",
    "objects=[\"Hockey\",\"Football\"]\n",
    "\n",
    "for i in subjects:\n",
    "    for j in verbs:\n",
    "        for k in objects:\n",
    "            print(\"Sentence: {} {} {}\".format(i,j,k))"
   ]
  },
  {
   "cell_type": "markdown",
   "id": "8ff0bb6b",
   "metadata": {},
   "source": [
    "### Question 84: Please write a program to print the list after removing delete even numbers in [5,6,77,45,22,12,24]."
   ]
  },
  {
   "cell_type": "code",
   "execution_count": 185,
   "id": "257d7b68",
   "metadata": {},
   "outputs": [
    {
     "name": "stdout",
     "output_type": "stream",
     "text": [
      "list after deleting even numbers:  [5, 77, 45]\n"
     ]
    }
   ],
   "source": [
    "def checkEven(x):\n",
    "    if(x%2!=0): return x\n",
    "lis1 = [5,6,77,45,22,12,24]\n",
    "lis2 = list(filter(checkEven,lis1))\n",
    "print('list after deleting even numbers: ',lis2)"
   ]
  },
  {
   "cell_type": "markdown",
   "id": "ec017f1d",
   "metadata": {},
   "source": [
    "### Question 85: By using list comprehension, please write a program to print the list after removing delete numbers which are divisible by 5 and 7 in [12,24,35,70,88,120,155]."
   ]
  },
  {
   "cell_type": "code",
   "execution_count": 188,
   "id": "58a5ff7a",
   "metadata": {},
   "outputs": [
    {
     "name": "stdout",
     "output_type": "stream",
     "text": [
      "list after deleting divisible by 5 & 7 numbers: [12, 24, 88]\n"
     ]
    }
   ],
   "source": [
    "lis = [12,24,35,70,88,120,155]\n",
    "new_list = [i for i in lis if (i%5!=0) and (i%7!=0)]\n",
    "print ('list after deleting divisible by 5 & 7 numbers:',new_list)"
   ]
  },
  {
   "cell_type": "markdown",
   "id": "43981d5a",
   "metadata": {},
   "source": [
    "### Question 86: By using list comprehension, please write a program to print the list after removing the 0th, 2nd, 4th,6th numbers in [12,24,35,70,88,120,155]."
   ]
  },
  {
   "cell_type": "code",
   "execution_count": 191,
   "id": "2834d126",
   "metadata": {},
   "outputs": [
    {
     "name": "stdout",
     "output_type": "stream",
     "text": [
      "[24, 70, 120]\n"
     ]
    }
   ],
   "source": [
    "lis = [12,24,35,70,88,120,155]\n",
    "newLis = [x for (i,x) in enumerate(lis) if i%2!=0]\n",
    "print(newLis)"
   ]
  },
  {
   "cell_type": "markdown",
   "id": "28c5811a",
   "metadata": {},
   "source": [
    "### Question 87: By using list comprehension, please write a program generate a 3 5 8 3D array whose each element is 0."
   ]
  },
  {
   "cell_type": "code",
   "execution_count": 195,
   "id": "6d0d79bd",
   "metadata": {},
   "outputs": [
    {
     "name": "stdout",
     "output_type": "stream",
     "text": [
      "[[[0, 0, 0], [0, 0, 0], [0, 0, 0], [0, 0, 0], [0, 0, 0]], [[0, 0, 0], [0, 0, 0], [0, 0, 0], [0, 0, 0], [0, 0, 0]], [[0, 0, 0], [0, 0, 0], [0, 0, 0], [0, 0, 0], [0, 0, 0]], [[0, 0, 0], [0, 0, 0], [0, 0, 0], [0, 0, 0], [0, 0, 0]], [[0, 0, 0], [0, 0, 0], [0, 0, 0], [0, 0, 0], [0, 0, 0]], [[0, 0, 0], [0, 0, 0], [0, 0, 0], [0, 0, 0], [0, 0, 0]], [[0, 0, 0], [0, 0, 0], [0, 0, 0], [0, 0, 0], [0, 0, 0]], [[0, 0, 0], [0, 0, 0], [0, 0, 0], [0, 0, 0], [0, 0, 0]]]\n"
     ]
    }
   ],
   "source": [
    "threeDarr = [[ [0 for col in range(3)] for col in range(5)] for row in range(8)]\n",
    "print(threeDarr)"
   ]
  },
  {
   "cell_type": "markdown",
   "id": "24be583d",
   "metadata": {},
   "source": [
    "### Question 88: By using list comprehension, please write a program to print the list after removing the 0th,4th,5th numbers in [12,24,35,70,88,120,155]."
   ]
  },
  {
   "cell_type": "code",
   "execution_count": 2,
   "id": "42331e32",
   "metadata": {},
   "outputs": [
    {
     "name": "stdout",
     "output_type": "stream",
     "text": [
      "Given list:  [12, 24, 35, 70, 88, 120, 155]\n",
      "New list after removing:  [24, 35, 70, 155]\n"
     ]
    }
   ],
   "source": [
    "lis = [12,24,35,70,88,120,155]\n",
    "print('Given list: ',lis)\n",
    "lis = [x for (i,x) in enumerate(lis) if i not in (0,4,5)]\n",
    "print('New list after removing: ',lis)"
   ]
  },
  {
   "cell_type": "markdown",
   "id": "d329cfef",
   "metadata": {},
   "source": [
    "### Question 89: By using list comprehension, please write a program to print the list after removing the value 24 in [12,24,35,24,88,120,155]."
   ]
  },
  {
   "cell_type": "code",
   "execution_count": 4,
   "id": "2150c230",
   "metadata": {},
   "outputs": [
    {
     "name": "stdout",
     "output_type": "stream",
     "text": [
      "Given list:  [12, 24, 35, 24, 88, 120, 155]\n",
      "New list after removing 24:  [12, 35, 88, 120, 155]\n",
      "[12, 35, 88, 120, 155]\n"
     ]
    }
   ],
   "source": [
    "lis = [12,24,35,24,88,120,155]\n",
    "print('Given list: ',lis)\n",
    "lis = [x for x in lis if x!=24]\n",
    "print('New list after removing 24: ',lis)\n",
    "print(lis)"
   ]
  },
  {
   "cell_type": "markdown",
   "id": "b8b2aaa2",
   "metadata": {},
   "source": [
    "### Question 90: With two given lists [1,3,6,78,35,55] and [12,24,35,24,88,120,155], write a program to make a list whose elements are intersection of the above given lists."
   ]
  },
  {
   "cell_type": "code",
   "execution_count": 7,
   "id": "38bbb8c5",
   "metadata": {},
   "outputs": [
    {
     "name": "stdout",
     "output_type": "stream",
     "text": [
      "Given set 1:  {1, 3, 35, 6, 78, 55}\n",
      "Given set 2:  {1, 3, 35, 6, 78, 55}\n",
      "Intersection of given 2 lists:  [35]\n"
     ]
    }
   ],
   "source": [
    "def intersect(s1,s2):\n",
    "    set3= [i for i in s1 if i in s2]\n",
    "    print('Intersection of given 2 lists: ',set3)\n",
    "\n",
    "set1=set([1,3,6,78,35,55])\n",
    "print('Given set 1: ',set1)\n",
    "set2=set([12,24,35,24,88,120,155])\n",
    "print('Given set 2: ',set1)\n",
    "intersect(set1,set2)\n"
   ]
  },
  {
   "cell_type": "markdown",
   "id": "0ebbd61e",
   "metadata": {},
   "source": [
    "### Question 91: With a given list [12,24,35,24,88,120,155,88,120,155], write a program to print this list after removing all duplicate values with original order reserved."
   ]
  },
  {
   "cell_type": "code",
   "execution_count": 18,
   "id": "fdaad4f6",
   "metadata": {},
   "outputs": [
    {
     "name": "stdout",
     "output_type": "stream",
     "text": [
      "Given list:  [12, 24, 35, 24, 88, 120, 155, 88, 120, 155]\n",
      "List after removing duplicates:  [12, 35, 24, 88, 120, 155]\n"
     ]
    }
   ],
   "source": [
    "def removeDuplicate(lis):\n",
    "    for values in lis:\n",
    "        if lis.count(values)>1:\n",
    "            lis.remove(values)\n",
    "    return lis\n",
    "\n",
    "lis=[12,24,35,24,88,120,155,88,120,155]\n",
    "print('Given list: ',lis)\n",
    "print('List after removing duplicates: ',removeDuplicate(lis))"
   ]
  },
  {
   "cell_type": "markdown",
   "id": "37317f66",
   "metadata": {},
   "source": [
    "### Question 92:Define a class Person and its two child classes: Male and Female. All classes have a method \"getGender\" which can print \"Male\" for Male class and \"Female\" for Female class."
   ]
  },
  {
   "cell_type": "code",
   "execution_count": 19,
   "id": "7468e5e7",
   "metadata": {},
   "outputs": [
    {
     "name": "stdout",
     "output_type": "stream",
     "text": [
      "Male\n",
      "Female\n"
     ]
    }
   ],
   "source": [
    "class Person(object):\n",
    "    def getGender( self ):\n",
    "        return \"Unknown\"\n",
    "\n",
    "class Male( Person ):\n",
    "    def getGender( self ):\n",
    "        return \"Male\"\n",
    "\n",
    "class Female( Person ):\n",
    "    def getGender( self ):\n",
    "        return \"Female\"\n",
    "\n",
    "aMale = Male()\n",
    "aFemale= Female()\n",
    "print(aMale.getGender())\n",
    "print(aFemale.getGender())"
   ]
  },
  {
   "cell_type": "markdown",
   "id": "35cc80a1",
   "metadata": {},
   "source": [
    "### Question 93: Please write a program which count and print the numbers of each character in a string input by console."
   ]
  },
  {
   "cell_type": "code",
   "execution_count": 28,
   "id": "a75b50a8",
   "metadata": {},
   "outputs": [
    {
     "name": "stdout",
     "output_type": "stream",
     "text": [
      "Enter a string:adriii\n",
      "a,1\n",
      "d,1\n",
      "r,1\n",
      "i,3\n"
     ]
    }
   ],
   "source": [
    "s1=input('Enter a string:')\n",
    "newstr=list(s1)\n",
    "newlist=[]\n",
    "for j in newstr:\n",
    "    if j not in newlist:\n",
    "        newlist.append(j)\n",
    "        count=0\n",
    "        for i in range(len(newstr)):\n",
    "            if j==newstr[i]:\n",
    "                count+=1\n",
    "        print(\"{},{}\".format(j,count))"
   ]
  },
  {
   "cell_type": "markdown",
   "id": "a0a6dfa0",
   "metadata": {},
   "source": [
    "### Question 94: Please write a program which accepts a string from console and print it in reverse order."
   ]
  },
  {
   "cell_type": "code",
   "execution_count": 33,
   "id": "dfd2b5a3",
   "metadata": {},
   "outputs": [
    {
     "name": "stdout",
     "output_type": "stream",
     "text": [
      "Enter a string:adrisaha\n",
      "Reversed string:  ahasirda\n"
     ]
    }
   ],
   "source": [
    "def reverse(string):\n",
    "    if len(string)!=0:\n",
    "        return reverse(string[1:]) + string[0]\n",
    "    return string\n",
    "\n",
    "s=input('Enter a string:')\n",
    "print('Reversed string: ',reverse(s))"
   ]
  },
  {
   "cell_type": "markdown",
   "id": "fbb6861a",
   "metadata": {},
   "source": [
    "### Question 95: Please write a program which accepts a string from console and print the characters that have even indexes."
   ]
  },
  {
   "cell_type": "code",
   "execution_count": 37,
   "id": "3bd6d460",
   "metadata": {},
   "outputs": [
    {
     "name": "stdout",
     "output_type": "stream",
     "text": [
      "Enter a string: adrisaha\n",
      "Even indexed characters:  arsh\n"
     ]
    }
   ],
   "source": [
    "string=input('Enter a string: ')\n",
    "string = string[::2] #even indexed characters\n",
    "print('Even indexed characters: ',string)"
   ]
  },
  {
   "cell_type": "markdown",
   "id": "f4297a2d",
   "metadata": {},
   "source": [
    "### Question 96: Please write a program which prints all permutations of [1,2,3]"
   ]
  },
  {
   "cell_type": "code",
   "execution_count": 38,
   "id": "3280624c",
   "metadata": {},
   "outputs": [
    {
     "name": "stdout",
     "output_type": "stream",
     "text": [
      "[(1, 2, 3), (1, 3, 2), (2, 1, 3), (2, 3, 1), (3, 1, 2), (3, 2, 1)]\n"
     ]
    }
   ],
   "source": [
    "import itertools\n",
    "print(list(itertools.permutations([1,2,3])))"
   ]
  },
  {
   "cell_type": "markdown",
   "id": "8de35d06",
   "metadata": {},
   "source": [
    "### Question 97: Write a program to solve a classic ancient Chinese puzzle: We count 35 heads and 94 legs among the chickens and rabbits in a farm. How many rabbits and how many chickens do we have?\n"
   ]
  },
  {
   "cell_type": "code",
   "execution_count": 44,
   "id": "fb6bf8a8",
   "metadata": {},
   "outputs": [
    {
     "name": "stdout",
     "output_type": "stream",
     "text": [
      "No of rabbits:  12\n",
      "No of chicken:  23\n"
     ]
    }
   ],
   "source": [
    "def puzzle_solver(heads,legs):\n",
    "    rabbits=0\n",
    "    chicken=0\n",
    "    if (legs%2==0) or heads<legs:\n",
    "        rabbit=int((legs-(2*heads))/2)\n",
    "        chicken=int(heads-rabbit)\n",
    "        print('No of rabbits: ',rabbit)\n",
    "        print('No of chicken: ',chicken)\n",
    "    else: print('There is no integer solution for this problem')     \n",
    "puzzle_solver(35,94)"
   ]
  },
  {
   "cell_type": "code",
   "execution_count": null,
   "id": "56cc35ec",
   "metadata": {},
   "outputs": [],
   "source": []
  }
 ],
 "metadata": {
  "kernelspec": {
   "display_name": "Python 3",
   "language": "python",
   "name": "python3"
  },
  "language_info": {
   "codemirror_mode": {
    "name": "ipython",
    "version": 3
   },
   "file_extension": ".py",
   "mimetype": "text/x-python",
   "name": "python",
   "nbconvert_exporter": "python",
   "pygments_lexer": "ipython3",
   "version": "3.8.8"
  }
 },
 "nbformat": 4,
 "nbformat_minor": 5
}
